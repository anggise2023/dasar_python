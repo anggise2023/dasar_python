{
  "cells": [
    {
      "cell_type": "markdown",
      "id": "04ca5902-c23d-4486-b31f-acf67c62e996",
      "metadata": {
        "id": "04ca5902-c23d-4486-b31f-acf67c62e996"
      },
      "source": [
        "# Perulangan / Looping"
      ]
    },
    {
      "cell_type": "markdown",
      "id": "39072426-00eb-4711-a89f-5367416ac9f0",
      "metadata": {
        "id": "39072426-00eb-4711-a89f-5367416ac9f0"
      },
      "source": [
        "Looping dalam bahasa pemrograman adalah suatu proses yang memungkinkan kita untuk mengeksekusi sekelompok perintah secara berulang-ulang selama kondisi tertentu terpenuhi. Python memiliki beberapa jenis loop, termasuk **if-else, while, dan for.**"
      ]
    },
    {
      "cell_type": "markdown",
      "id": "c7415e87-3a10-4df9-bb9a-5e3b60af6595",
      "metadata": {
        "id": "c7415e87-3a10-4df9-bb9a-5e3b60af6595"
      },
      "source": [
        "# if-else"
      ]
    },
    {
      "cell_type": "markdown",
      "id": "bf16ba22-718b-47e1-9cf5-687cbcf013f6",
      "metadata": {
        "id": "bf16ba22-718b-47e1-9cf5-687cbcf013f6"
      },
      "source": [
        "If-Else: Struktur kontrol if-else dalam Python digunakan untuk membuat keputusan berdasarkan kondisi. Jika kondisi dalam pernyataan if terpenuhi (True), maka blok kode dalam if akan dijalankan. Jika tidak (False), maka blok kode dalam else akan dijalankan. Ini seperti membuat keputusan dalam kehidupan sehari-hari. Misalnya, “jika hujan, bawa payung, jika tidak, tidak perlu bawa payung”."
      ]
    },
    {
      "cell_type": "code",
      "execution_count": 1,
      "id": "cb3d65b4-b24c-4ca9-a466-9a300034100a",
      "metadata": {
        "colab": {
          "base_uri": "https://localhost:8080/"
        },
        "id": "cb3d65b4-b24c-4ca9-a466-9a300034100a",
        "outputId": "2d1fdc0c-76ad-41ba-a3d6-e0c7839bb664"
      },
      "outputs": [
        {
          "output_type": "stream",
          "name": "stdout",
          "text": [
            "Anda boleh memiliki SIM\n"
          ]
        }
      ],
      "source": [
        "# Contoh 1\n",
        "umur = 20\n",
        "if umur >= 17:\n",
        "    print(\"Anda boleh memiliki SIM\")\n",
        "else:\n",
        "    print(\"Anda belum boleh memiliki SIM\")"
      ]
    },
    {
      "cell_type": "code",
      "execution_count": 2,
      "id": "05bbc1b7-3adb-4b4e-ba56-11143aba3f37",
      "metadata": {
        "colab": {
          "base_uri": "https://localhost:8080/"
        },
        "id": "05bbc1b7-3adb-4b4e-ba56-11143aba3f37",
        "outputId": "a2146dd5-396c-448a-c70e-59fca28bec93"
      },
      "outputs": [
        {
          "output_type": "stream",
          "name": "stdout",
          "text": [
            "Tidak perlu bawa payung\n"
          ]
        }
      ],
      "source": [
        "# Contoh 2\n",
        "cuaca = \"cerah\"\n",
        "if cuaca == \"hujan\":\n",
        "    print(\"Bawa payung\")\n",
        "else:\n",
        "    print(\"Tidak perlu bawa payung\")"
      ]
    },
    {
      "cell_type": "code",
      "execution_count": 3,
      "id": "49f0a834-073a-4a82-b873-5edb6d18f7aa",
      "metadata": {
        "colab": {
          "base_uri": "https://localhost:8080/"
        },
        "id": "49f0a834-073a-4a82-b873-5edb6d18f7aa",
        "outputId": "449d6021-9054-40d5-d2b7-d1d494ad74fd"
      },
      "outputs": [
        {
          "output_type": "stream",
          "name": "stdout",
          "text": [
            "Anda lulus\n"
          ]
        }
      ],
      "source": [
        "# Contoh 3\n",
        "nilai = 85\n",
        "if nilai >= 75:\n",
        "    print(\"Anda lulus\")\n",
        "else:\n",
        "    print(\"Anda tidak lulus\")"
      ]
    },
    {
      "cell_type": "markdown",
      "id": "ba99e6cc-475b-4730-a5b7-be6684503f07",
      "metadata": {
        "id": "ba99e6cc-475b-4730-a5b7-be6684503f07"
      },
      "source": [
        "# while loop"
      ]
    },
    {
      "cell_type": "markdown",
      "id": "e329014a-8d72-4059-bae7-3923d0b67784",
      "metadata": {
        "id": "e329014a-8d72-4059-bae7-3923d0b67784"
      },
      "source": [
        "While Loop: While loop dalam Python digunakan untuk menjalankan blok kode berulang kali selama kondisi tertentu terpenuhi (True). Ini seperti membaca buku; selama Anda belum mencapai halaman terakhir, Anda terus membaca."
      ]
    },
    {
      "cell_type": "code",
      "execution_count": 4,
      "id": "3a5311e4-3aa6-48b2-9f4a-72e28460f88f",
      "metadata": {
        "colab": {
          "base_uri": "https://localhost:8080/"
        },
        "id": "3a5311e4-3aa6-48b2-9f4a-72e28460f88f",
        "outputId": "8392133f-d68b-4e4e-a71b-a320d3efa448"
      },
      "outputs": [
        {
          "output_type": "stream",
          "name": "stdout",
          "text": [
            "1\n",
            "2\n",
            "3\n",
            "4\n",
            "5\n",
            "6\n",
            "7\n",
            "8\n",
            "9\n",
            "10\n"
          ]
        }
      ],
      "source": [
        "# Contoh 1\n",
        "i = 1\n",
        "while i <= 10:\n",
        "    print(i)\n",
        "    i += 1"
      ]
    },
    {
      "cell_type": "code",
      "execution_count": 5,
      "id": "84609c33-e84b-44db-a0a4-fd7c6a6fc7bc",
      "metadata": {
        "colab": {
          "base_uri": "https://localhost:8080/"
        },
        "id": "84609c33-e84b-44db-a0a4-fd7c6a6fc7bc",
        "outputId": "dd17bab8-3ec6-40d9-ac9f-4d2d66fab309"
      },
      "outputs": [
        {
          "output_type": "stream",
          "name": "stdout",
          "text": [
            "Beli ayam\n",
            "Beli ayam\n",
            "Beli ayam\n",
            "Beli ayam\n",
            "Beli ayam\n"
          ]
        }
      ],
      "source": [
        "# Contoh 2\n",
        "saldo = 100000\n",
        "harga_ayam = 20000\n",
        "while saldo >= harga_ayam:\n",
        "    print(\"Beli ayam\")\n",
        "    saldo -= harga_ayam"
      ]
    },
    {
      "cell_type": "code",
      "execution_count": 6,
      "id": "b8bdb51a-b565-40b8-8378-f622ebac8486",
      "metadata": {
        "colab": {
          "base_uri": "https://localhost:8080/"
        },
        "id": "b8bdb51a-b565-40b8-8378-f622ebac8486",
        "outputId": "9b236243-fef6-4225-a7a3-9da23021bc8e"
      },
      "outputs": [
        {
          "output_type": "stream",
          "name": "stdout",
          "text": [
            "0\n",
            "1\n",
            "2\n",
            "3\n",
            "4\n"
          ]
        }
      ],
      "source": [
        "# Contoh 3\n",
        "angka = 0\n",
        "while angka < 5:\n",
        "    print(angka)\n",
        "    angka += 1"
      ]
    },
    {
      "cell_type": "markdown",
      "id": "1706fbb3-eb58-44ab-aea5-db65a55b0b7a",
      "metadata": {
        "id": "1706fbb3-eb58-44ab-aea5-db65a55b0b7a"
      },
      "source": [
        "# for loop"
      ]
    },
    {
      "cell_type": "markdown",
      "id": "0a334e77-3564-47c9-b742-b4cd1d4ab516",
      "metadata": {
        "id": "0a334e77-3564-47c9-b742-b4cd1d4ab516"
      },
      "source": [
        "For Loop: For loop dalam Python digunakan untuk melakukan iterasi (pengulangan) pada objek seperti list, tuple, dictionary, string, dll. Ini seperti menghitung jumlah uang dalam dompet; Anda mengambil satu uang kertas atau koin pada satu waktu dan terus melakukannya sampai dompet kosong."
      ]
    },
    {
      "cell_type": "code",
      "execution_count": 7,
      "id": "d55b9aa1-9f55-4aa5-b6b8-23d3e487aa17",
      "metadata": {
        "colab": {
          "base_uri": "https://localhost:8080/"
        },
        "id": "d55b9aa1-9f55-4aa5-b6b8-23d3e487aa17",
        "outputId": "0bde37d4-b026-422e-eaaa-0953564b0d88"
      },
      "outputs": [
        {
          "output_type": "stream",
          "name": "stdout",
          "text": [
            "0\n",
            "1\n",
            "2\n",
            "3\n",
            "4\n",
            "5\n",
            "6\n",
            "7\n",
            "8\n",
            "9\n"
          ]
        }
      ],
      "source": [
        "# Contoh 1\n",
        "for i in range(10):\n",
        "    print(i)"
      ]
    },
    {
      "cell_type": "code",
      "execution_count": 8,
      "id": "1c3e1bc4-89f9-4ea9-9e3e-e7bf7a248891",
      "metadata": {
        "colab": {
          "base_uri": "https://localhost:8080/"
        },
        "id": "1c3e1bc4-89f9-4ea9-9e3e-e7bf7a248891",
        "outputId": "71f7956c-181e-4235-8d26-636845b6fd84"
      },
      "outputs": [
        {
          "output_type": "stream",
          "name": "stdout",
          "text": [
            "apel\n",
            "pisang\n",
            "mangga\n"
          ]
        }
      ],
      "source": [
        "# Contoh 2\n",
        "buah = [\"apel\", \"pisang\", \"mangga\"]\n",
        "for b in buah:\n",
        "    print(b)"
      ]
    },
    {
      "cell_type": "code",
      "execution_count": 9,
      "id": "aef9c667-83d7-4b09-a3fe-f7771776539a",
      "metadata": {
        "colab": {
          "base_uri": "https://localhost:8080/"
        },
        "id": "aef9c667-83d7-4b09-a3fe-f7771776539a",
        "outputId": "9a615c4d-d87d-452f-e495-390eba1582cf"
      },
      "outputs": [
        {
          "output_type": "stream",
          "name": "stdout",
          "text": [
            "P\n",
            "y\n",
            "t\n",
            "h\n",
            "o\n",
            "n\n"
          ]
        }
      ],
      "source": [
        "# Contoh 3\n",
        "for huruf in 'Python':\n",
        "    print(huruf)"
      ]
    },
    {
      "cell_type": "code",
      "execution_count": 9,
      "id": "68dad702-3417-4415-a214-381d189f5e1f",
      "metadata": {
        "id": "68dad702-3417-4415-a214-381d189f5e1f"
      },
      "outputs": [],
      "source": []
    }
  ],
  "metadata": {
    "kernelspec": {
      "display_name": "Python 3 (ipykernel)",
      "language": "python",
      "name": "python3"
    },
    "language_info": {
      "codemirror_mode": {
        "name": "ipython",
        "version": 3
      },
      "file_extension": ".py",
      "mimetype": "text/x-python",
      "name": "python",
      "nbconvert_exporter": "python",
      "pygments_lexer": "ipython3",
      "version": "3.9.17"
    },
    "colab": {
      "provenance": []
    }
  },
  "nbformat": 4,
  "nbformat_minor": 5
}
