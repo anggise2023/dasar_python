{
  "nbformat": 4,
  "nbformat_minor": 0,
  "metadata": {
    "colab": {
      "provenance": [],
      "include_colab_link": true
    },
    "kernelspec": {
      "name": "python3",
      "display_name": "Python 3"
    },
    "language_info": {
      "name": "python"
    }
  },
  "cells": [
    {
      "cell_type": "markdown",
      "metadata": {
        "id": "view-in-github",
        "colab_type": "text"
      },
      "source": [
        "<a href=\"https://colab.research.google.com/github/anggise2023/dasar_python/blob/main/pengenalan_python.ipynb\" target=\"_parent\"><img src=\"https://colab.research.google.com/assets/colab-badge.svg\" alt=\"Open In Colab\"/></a>"
      ]
    },
    {
      "cell_type": "markdown",
      "metadata": {
        "id": "DODFiS9N2V6W"
      },
      "source": [
        "## Menampilkan Pesan/statment"
      ]
    },
    {
      "cell_type": "code",
      "metadata": {
        "colab": {
          "base_uri": "https://localhost:8080/"
        },
        "id": "Hn2tPoCy4dLJ",
        "outputId": "f97c2c3f-5091-485b-c907-6822aead80c0"
      },
      "source": [
        "print(\"Hello, World!\")"
      ],
      "execution_count": 1,
      "outputs": [
        {
          "output_type": "stream",
          "name": "stdout",
          "text": [
            "Hello, World!\n"
          ]
        }
      ]
    },
    {
      "cell_type": "markdown",
      "metadata": {
        "id": "YJeQGN0J4ymA"
      },
      "source": [
        "## Variabel dan Tipe Data:"
      ]
    },
    {
      "cell_type": "code",
      "metadata": {
        "id": "Fl-dHmgp4xlY"
      },
      "source": [
        "# Variabel\n",
        "nama = \"John\"\n",
        "umur = 30\n",
        "\n",
        "# Tipe data\n",
        "integer = 42\n",
        "float_number = 3.14\n",
        "boolean = True\n",
        "string = \"Ini adalah sebuah string\"\n"
      ],
      "execution_count": 2,
      "outputs": []
    },
    {
      "cell_type": "markdown",
      "metadata": {
        "id": "fnb_motD5O3x"
      },
      "source": [
        "## Operasi Matematika:"
      ]
    },
    {
      "cell_type": "code",
      "source": [
        "angka1 = 100\n",
        "angka2 = 50\n",
        "\n",
        "penjumlahan = angka1 + angka2\n",
        "pengurangan = angka1 - angka2\n",
        "perkalian = angka1 * angka2\n",
        "pembagian = angka1 / angka2\n",
        "modulus = angka1 % angka2\n",
        "pangkat = angka1 ** angka2\n",
        "\n",
        "print(penjumlahan)\n",
        "print(pengurangan)\n",
        "print(perkalian)\n",
        "print(pembagian)\n",
        "print(modulus)\n",
        "print(pangkat)"
      ],
      "metadata": {
        "colab": {
          "base_uri": "https://localhost:8080/"
        },
        "id": "O0YVCsoPtNie",
        "outputId": "e30b44f9-8af9-43ac-c804-41fa9255c61b"
      },
      "execution_count": 4,
      "outputs": [
        {
          "output_type": "stream",
          "name": "stdout",
          "text": [
            "150\n",
            "50\n",
            "5000\n",
            "2.0\n",
            "0\n",
            "10000000000000000000000000000000000000000000000000000000000000000000000000000000000000000000000000000\n"
          ]
        }
      ]
    },
    {
      "cell_type": "markdown",
      "source": [
        "### If Else"
      ],
      "metadata": {
        "id": "iMasSjMhuBPi"
      }
    },
    {
      "cell_type": "code",
      "metadata": {
        "colab": {
          "base_uri": "https://localhost:8080/"
        },
        "id": "tOXZTiBR6MNi",
        "outputId": "1debd592-c8b6-4eb5-be95-7f9cc7c4432a"
      },
      "source": [
        "# Pengkondisian (if-else)\n",
        "nilai = 85\n",
        "if nilai >= 70:\n",
        "    print(\"Lulus\")\n",
        "else:\n",
        "    print(\"Tidak Lulus\")"
      ],
      "execution_count": 5,
      "outputs": [
        {
          "output_type": "stream",
          "name": "stdout",
          "text": [
            "Lulus\n"
          ]
        }
      ]
    },
    {
      "cell_type": "markdown",
      "metadata": {
        "id": "Yp2gADJV6TLT"
      },
      "source": [
        "## For Loop"
      ]
    },
    {
      "cell_type": "code",
      "source": [
        "# Perulangan (for loop)\n",
        "for i in range(1, 6):\n",
        "    print(i)"
      ],
      "metadata": {
        "colab": {
          "base_uri": "https://localhost:8080/"
        },
        "id": "Zwkt0MGLuZw4",
        "outputId": "933ceb73-7f76-4db3-d532-8504d4379674"
      },
      "execution_count": 6,
      "outputs": [
        {
          "output_type": "stream",
          "name": "stdout",
          "text": [
            "1\n",
            "2\n",
            "3\n",
            "4\n",
            "5\n"
          ]
        }
      ]
    },
    {
      "cell_type": "markdown",
      "metadata": {
        "id": "_lVO3ehY6pmx"
      },
      "source": [
        "## While Loop"
      ]
    },
    {
      "cell_type": "code",
      "source": [
        "# Perulangan (while loop)\n",
        "angka = 1\n",
        "while angka <= 5:\n",
        "    print(angka)\n",
        "    angka += 1"
      ],
      "metadata": {
        "colab": {
          "base_uri": "https://localhost:8080/"
        },
        "id": "6LqThNyoufMJ",
        "outputId": "fb5181c0-63bb-4464-e6b5-78f9b1c30913"
      },
      "execution_count": 7,
      "outputs": [
        {
          "output_type": "stream",
          "name": "stdout",
          "text": [
            "1\n",
            "2\n",
            "3\n",
            "4\n",
            "5\n"
          ]
        }
      ]
    },
    {
      "cell_type": "markdown",
      "metadata": {
        "id": "9b0vuWnd7GFh"
      },
      "source": [
        "## Fungsi"
      ]
    },
    {
      "cell_type": "code",
      "source": [
        "def sapa(nama):\n",
        "    return \"Hello, \" + nama\n",
        "\n",
        "pesan = sapa(\"Anggi\")\n",
        "print(pesan)\n"
      ],
      "metadata": {
        "colab": {
          "base_uri": "https://localhost:8080/"
        },
        "id": "audrMcLeullv",
        "outputId": "e1e77793-ab19-400c-f5d8-f9303e4c98ab"
      },
      "execution_count": 9,
      "outputs": [
        {
          "output_type": "stream",
          "name": "stdout",
          "text": [
            "Hello, Anggi\n"
          ]
        }
      ]
    },
    {
      "cell_type": "markdown",
      "metadata": {
        "id": "mzYUM8287mit"
      },
      "source": [
        "## List dan Dictionary"
      ]
    },
    {
      "cell_type": "code",
      "source": [
        "# List\n",
        "buah = [\"apel\", \"pisang\", \"mangga\"]\n",
        "print(buah[0])  # Output: \"apel\"\n",
        "buah.append(\"jeruk\")\n",
        "\n",
        "# Dictionary\n",
        "data_mahasiswa = {\"nama\": \"John\", \"umur\": 25, \"jurusan\": \"Teknik Informatika\"}\n",
        "print(data_mahasiswa[\"nama\"])  # Output: \"John\"\n"
      ],
      "metadata": {
        "colab": {
          "base_uri": "https://localhost:8080/"
        },
        "id": "40_GtlGguvZ6",
        "outputId": "96aa9d4f-8120-48ea-a80d-36e4f7f7c516"
      },
      "execution_count": 10,
      "outputs": [
        {
          "output_type": "stream",
          "name": "stdout",
          "text": [
            "apel\n",
            "John\n"
          ]
        }
      ]
    },
    {
      "cell_type": "markdown",
      "source": [
        "## komen"
      ],
      "metadata": {
        "id": "Dvr4MsTuvdAY"
      }
    },
    {
      "cell_type": "code",
      "metadata": {
        "colab": {
          "base_uri": "https://localhost:8080/"
        },
        "id": "GzkvC4y08aI6",
        "outputId": "1a268205-81e3-4041-b82e-a26e2ba1d69d"
      },
      "source": [
        "'''\n",
        "Ini adalah coment panjang\n",
        "Bisa digunakan untuk membrikan penjelasan\n",
        "Panjang pada sell kode python,\n",
        "Misal dokumentasi program, spesifikasi\n",
        "input output atau lainnya\n",
        "'''\n",
        "\n",
        "print('belajar Python menyenangkan')"
      ],
      "execution_count": null,
      "outputs": [
        {
          "output_type": "stream",
          "name": "stdout",
          "text": [
            "belajar Python menyenangkan\n"
          ]
        }
      ]
    }
  ]
}