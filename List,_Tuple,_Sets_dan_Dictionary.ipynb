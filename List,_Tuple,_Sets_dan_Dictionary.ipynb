{
  "cells": [
    {
      "cell_type": "markdown",
      "metadata": {
        "id": "view-in-github",
        "colab_type": "text"
      },
      "source": [
        "<a href=\"https://colab.research.google.com/github/anggise2023/dasar_python/blob/main/List%2C_Tuple%2C_Sets_dan_Dictionary.ipynb\" target=\"_parent\"><img src=\"https://colab.research.google.com/assets/colab-badge.svg\" alt=\"Open In Colab\"/></a>"
      ]
    },
    {
      "cell_type": "markdown",
      "id": "f741bfcc-125b-4137-b46f-6e5f6f066038",
      "metadata": {
        "id": "f741bfcc-125b-4137-b46f-6e5f6f066038"
      },
      "source": [
        "# List, Tuple, Sets dan Dictionary"
      ]
    },
    {
      "cell_type": "markdown",
      "id": "2f73284c-6166-4faf-b16d-3a7c0700e88d",
      "metadata": {
        "id": "2f73284c-6166-4faf-b16d-3a7c0700e88d"
      },
      "source": [
        "elamat datang di blog kami yang akan membawa Anda ke dalam dunia struktur data penting dalam bahasa pemrograman Python. Pada artikel ini, kita akan membahas list, tuple, sets, dan dictionary, yang merupakan bagian inti dari pemrograman Python."
      ]
    },
    {
      "cell_type": "markdown",
      "id": "5a1c20b8-e07c-4d4d-b1f1-95c58b2fa564",
      "metadata": {
        "id": "5a1c20b8-e07c-4d4d-b1f1-95c58b2fa564"
      },
      "source": [
        "# List"
      ]
    },
    {
      "cell_type": "markdown",
      "id": "81a5cc86-367f-4261-8ea0-f4c6dd99b0f8",
      "metadata": {
        "id": "81a5cc86-367f-4261-8ea0-f4c6dd99b0f8"
      },
      "source": [
        "List adalah struktur data yang paling sering digunakan dalam Python. List adalah kumpulan item yang berurutan dan dapat diubah. Bisa menambahkan, mengubah, dan menghapus item dalam list. List didefinisikan dengan item yang dipisahkan dengan tanda koma dan diapit oleh tanda kurung siku []."
      ]
    },
    {
      "cell_type": "code",
      "execution_count": 1,
      "id": "c1d49213-c20c-48dc-bede-ce842f37c9ae",
      "metadata": {
        "colab": {
          "base_uri": "https://localhost:8080/"
        },
        "id": "c1d49213-c20c-48dc-bede-ce842f37c9ae",
        "outputId": "a50eba83-80b6-46d9-fccb-fd423dcf763d"
      },
      "outputs": [
        {
          "output_type": "stream",
          "name": "stdout",
          "text": [
            "['apel', 'pisang', 'jeruk']\n"
          ]
        }
      ],
      "source": [
        "# Contoh 1: Membuat list\n",
        "buah = ['apel', 'pisang', 'jeruk']\n",
        "print(buah)  # Output: ['apel', 'pisang', 'jeruk']"
      ]
    },
    {
      "cell_type": "code",
      "execution_count": 2,
      "id": "515ed06e-e097-4c5d-bc9d-92455c91ccb3",
      "metadata": {
        "colab": {
          "base_uri": "https://localhost:8080/"
        },
        "id": "515ed06e-e097-4c5d-bc9d-92455c91ccb3",
        "outputId": "05922970-27b4-4a89-a9fb-099816855629"
      },
      "outputs": [
        {
          "output_type": "stream",
          "name": "stdout",
          "text": [
            "apel\n"
          ]
        }
      ],
      "source": [
        "# Contoh 2: Mengakses item dalam list\n",
        "print(buah[0])  # Output: apel"
      ]
    },
    {
      "cell_type": "code",
      "execution_count": 3,
      "id": "054ceea9-fac2-49da-86ea-d8923123046e",
      "metadata": {
        "colab": {
          "base_uri": "https://localhost:8080/"
        },
        "id": "054ceea9-fac2-49da-86ea-d8923123046e",
        "outputId": "90aee78a-dbe5-41ca-8c2b-4c0f4ab72bac"
      },
      "outputs": [
        {
          "output_type": "stream",
          "name": "stdout",
          "text": [
            "['apel', 'mangga', 'jeruk']\n"
          ]
        }
      ],
      "source": [
        "# Contoh 3: Mengubah item dalam list\n",
        "buah[1] = 'mangga'\n",
        "print(buah)  # Output: ['apel', 'mangga', 'jeruk']"
      ]
    },
    {
      "cell_type": "markdown",
      "id": "5baabccf-8400-4703-8b2d-41af798fb785",
      "metadata": {
        "id": "5baabccf-8400-4703-8b2d-41af798fb785"
      },
      "source": [
        "# Tuple"
      ]
    },
    {
      "cell_type": "markdown",
      "id": "e361a883-1e9c-4646-9008-e84c216859c5",
      "metadata": {
        "id": "e361a883-1e9c-4646-9008-e84c216859c5"
      },
      "source": [
        "Tuple mirip dengan list, tetapi tidak bisa diubah (immutable). Setelah tuple dibuat, Anda tidak bisa menambahkan, mengubah, atau menghapus item dalam tuple. Tuple didefinisikan dengan item yang dipisahkan koma dan diapit oleh tanda kurung ()."
      ]
    },
    {
      "cell_type": "code",
      "execution_count": 4,
      "id": "f087ab29-de7d-4cf3-b3c6-cb598b8ea221",
      "metadata": {
        "colab": {
          "base_uri": "https://localhost:8080/"
        },
        "id": "f087ab29-de7d-4cf3-b3c6-cb598b8ea221",
        "outputId": "41f6bbaf-bf8c-403e-c607-075be4cee08d"
      },
      "outputs": [
        {
          "output_type": "stream",
          "name": "stdout",
          "text": [
            "('apel', 'pisang', 'jeruk')\n"
          ]
        }
      ],
      "source": [
        "# Contoh 1: Membuat tuple\n",
        "buah = ('apel', 'pisang', 'jeruk')\n",
        "print(buah)  # Output: ('apel', 'pisang', 'jeruk')"
      ]
    },
    {
      "cell_type": "code",
      "execution_count": 5,
      "id": "929e4d66-73dc-4bf8-83ea-9c2c80307447",
      "metadata": {
        "colab": {
          "base_uri": "https://localhost:8080/"
        },
        "id": "929e4d66-73dc-4bf8-83ea-9c2c80307447",
        "outputId": "78cc12d9-5f56-4a72-d60e-3bcef16c250e"
      },
      "outputs": [
        {
          "output_type": "stream",
          "name": "stdout",
          "text": [
            "apel\n"
          ]
        }
      ],
      "source": [
        "# Contoh 2: Mengakses item dalam tuple\n",
        "print(buah[0])  # Output: apel"
      ]
    },
    {
      "cell_type": "code",
      "execution_count": 6,
      "id": "bd192861-b9cb-47dc-8f69-7929f19c0a5a",
      "metadata": {
        "colab": {
          "base_uri": "https://localhost:8080/",
          "height": 192
        },
        "id": "bd192861-b9cb-47dc-8f69-7929f19c0a5a",
        "outputId": "1ede0e64-89f0-4c7f-e4b1-704d55d3d95b"
      },
      "outputs": [
        {
          "output_type": "error",
          "ename": "TypeError",
          "evalue": "ignored",
          "traceback": [
            "\u001b[0;31m---------------------------------------------------------------------------\u001b[0m",
            "\u001b[0;31mTypeError\u001b[0m                                 Traceback (most recent call last)",
            "\u001b[0;32m<ipython-input-6-029beb348656>\u001b[0m in \u001b[0;36m<cell line: 2>\u001b[0;34m()\u001b[0m\n\u001b[1;32m      1\u001b[0m \u001b[0;31m# Contoh 3: Mencoba mengubah item dalam tuple (akan menghasilkan error)\u001b[0m\u001b[0;34m\u001b[0m\u001b[0;34m\u001b[0m\u001b[0m\n\u001b[0;32m----> 2\u001b[0;31m \u001b[0mbuah\u001b[0m\u001b[0;34m[\u001b[0m\u001b[0;36m1\u001b[0m\u001b[0;34m]\u001b[0m \u001b[0;34m=\u001b[0m \u001b[0;34m'mangga'\u001b[0m  \u001b[0;31m# Output: TypeError: 'tuple' object does not support item assignment\u001b[0m\u001b[0;34m\u001b[0m\u001b[0;34m\u001b[0m\u001b[0m\n\u001b[0m",
            "\u001b[0;31mTypeError\u001b[0m: 'tuple' object does not support item assignment"
          ]
        }
      ],
      "source": [
        "# Contoh 3: Mencoba mengubah item dalam tuple (akan menghasilkan error)\n",
        "buah[1] = 'mangga'  # Output: TypeError: 'tuple' object does not support item assignment"
      ]
    },
    {
      "cell_type": "markdown",
      "id": "73dd8d46-d2ad-40ec-a6cb-cdb328f51303",
      "metadata": {
        "id": "73dd8d46-d2ad-40ec-a6cb-cdb328f51303"
      },
      "source": [
        "# Sets"
      ]
    },
    {
      "cell_type": "markdown",
      "id": "5a70901f-dd2e-4d3c-b508-bd970536e6d9",
      "metadata": {
        "id": "5a70901f-dd2e-4d3c-b508-bd970536e6d9"
      },
      "source": [
        "Set adalah kumpulan item yang tidak berurutan dan tidak terindeks. Set tidak mengandung item duplikat. Set didefinisikan dengan item yang dipisahkan koma dan diapit oleh tanda kurung kurawal {}."
      ]
    },
    {
      "cell_type": "code",
      "execution_count": 7,
      "id": "ba78a703-a3c8-4b66-918e-892848b71ad5",
      "metadata": {
        "colab": {
          "base_uri": "https://localhost:8080/"
        },
        "id": "ba78a703-a3c8-4b66-918e-892848b71ad5",
        "outputId": "a8d8822c-1121-44d3-d419-24626a23683a"
      },
      "outputs": [
        {
          "output_type": "stream",
          "name": "stdout",
          "text": [
            "{'pisang', 'apel', 'jeruk'}\n"
          ]
        }
      ],
      "source": [
        "# Contoh 1: Membuat set\n",
        "buah = {'apel', 'pisang', 'jeruk'}\n",
        "print(buah)  # Output: {'pisang', 'jeruk', 'apel'}"
      ]
    },
    {
      "cell_type": "code",
      "execution_count": 8,
      "id": "ea928ffa-4df2-4217-98f9-54d878d4f7c5",
      "metadata": {
        "colab": {
          "base_uri": "https://localhost:8080/"
        },
        "id": "ea928ffa-4df2-4217-98f9-54d878d4f7c5",
        "outputId": "efb4f37c-4b07-4d7d-c2c3-f851842044e1"
      },
      "outputs": [
        {
          "output_type": "stream",
          "name": "stdout",
          "text": [
            "{'pisang', 'apel', 'mangga', 'jeruk'}\n"
          ]
        }
      ],
      "source": [
        "# Contoh 2: Menambahkan item ke set\n",
        "buah.add('mangga')\n",
        "print(buah)  # Output: {'pisang', 'mangga', 'jeruk', 'apel'}"
      ]
    },
    {
      "cell_type": "code",
      "execution_count": 9,
      "id": "143b788a-debc-4523-8e4f-b94fe2cef591",
      "metadata": {
        "colab": {
          "base_uri": "https://localhost:8080/"
        },
        "id": "143b788a-debc-4523-8e4f-b94fe2cef591",
        "outputId": "6667e21d-7687-4fc2-a04a-cbd685c46574"
      },
      "outputs": [
        {
          "output_type": "stream",
          "name": "stdout",
          "text": [
            "{'apel', 'mangga', 'jeruk'}\n"
          ]
        }
      ],
      "source": [
        "# Contoh 3: Menghapus item dari set\n",
        "buah.remove('pisang')\n",
        "print(buah)  # Output: {'mangga', 'jeruk', 'apel'}"
      ]
    },
    {
      "cell_type": "markdown",
      "id": "07fda461-1e53-4c2f-be2c-1760b23df9ca",
      "metadata": {
        "id": "07fda461-1e53-4c2f-be2c-1760b23df9ca"
      },
      "source": [
        "# Dictionary"
      ]
    },
    {
      "cell_type": "markdown",
      "id": "5c96134e-f613-4c81-9a9b-5610e7c5d1b0",
      "metadata": {
        "id": "5c96134e-f613-4c81-9a9b-5610e7c5d1b0"
      },
      "source": [
        "Dictionary adalah kumpulan pasangan kunci-nilai (key-value) yang tidak berurutan. Kunci dalam dictionary harus unik. Dictionary didefinisikan dengan pasangan kunci:nilai yang dipisahkan koma dan diapit oleh tanda kurung kurawal {}"
      ]
    },
    {
      "cell_type": "code",
      "execution_count": 10,
      "id": "520b8472-348c-4cbe-a3ff-4b1d30c3c166",
      "metadata": {
        "colab": {
          "base_uri": "https://localhost:8080/"
        },
        "id": "520b8472-348c-4cbe-a3ff-4b1d30c3c166",
        "outputId": "ca3e2c70-5830-4ef6-8f48-f3cb6327e50a"
      },
      "outputs": [
        {
          "output_type": "stream",
          "name": "stdout",
          "text": [
            "{'nama': 'Budi', 'umur': 20}\n"
          ]
        }
      ],
      "source": [
        "# Contoh 1: Membuat dictionary\n",
        "orang = {'nama': 'Budi', 'umur': 20}\n",
        "print(orang)  # Output: {'nama': 'Budi', 'umur': 20}"
      ]
    },
    {
      "cell_type": "code",
      "execution_count": 11,
      "id": "169e6356-1030-43bb-ae6b-cdd4b20d0715",
      "metadata": {
        "colab": {
          "base_uri": "https://localhost:8080/"
        },
        "id": "169e6356-1030-43bb-ae6b-cdd4b20d0715",
        "outputId": "2bf5d46b-1de7-4e14-90d0-72d8a2a5c8b0"
      },
      "outputs": [
        {
          "output_type": "stream",
          "name": "stdout",
          "text": [
            "Budi\n"
          ]
        }
      ],
      "source": [
        "# Contoh 2: Mengakses nilai dalam dictionary\n",
        "print(orang['nama'])  # Output: Budi"
      ]
    },
    {
      "cell_type": "code",
      "execution_count": 12,
      "id": "14d99e37-bb17-47a5-82bf-136437d889c1",
      "metadata": {
        "colab": {
          "base_uri": "https://localhost:8080/"
        },
        "id": "14d99e37-bb17-47a5-82bf-136437d889c1",
        "outputId": "31281564-e2f1-4825-a96f-84b78ffec855"
      },
      "outputs": [
        {
          "output_type": "stream",
          "name": "stdout",
          "text": [
            "{'nama': 'Budi', 'umur': 21}\n"
          ]
        }
      ],
      "source": [
        "# Contoh 3: Mengubah nilai dalam dictionary\n",
        "orang['umur'] = 21\n",
        "print(orang)  # Output: {'nama': 'Budi', 'umur': 21}"
      ]
    },
    {
      "cell_type": "code",
      "execution_count": 12,
      "id": "b82f3a0a-70fd-456a-88b1-c2cb281999ef",
      "metadata": {
        "id": "b82f3a0a-70fd-456a-88b1-c2cb281999ef"
      },
      "outputs": [],
      "source": []
    }
  ],
  "metadata": {
    "kernelspec": {
      "display_name": "Python 3 (ipykernel)",
      "language": "python",
      "name": "python3"
    },
    "language_info": {
      "codemirror_mode": {
        "name": "ipython",
        "version": 3
      },
      "file_extension": ".py",
      "mimetype": "text/x-python",
      "name": "python",
      "nbconvert_exporter": "python",
      "pygments_lexer": "ipython3",
      "version": "3.9.17"
    },
    "colab": {
      "provenance": [],
      "include_colab_link": true
    }
  },
  "nbformat": 4,
  "nbformat_minor": 5
}